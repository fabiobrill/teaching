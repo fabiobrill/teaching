{
 "cells": [
  {
   "cell_type": "markdown",
   "id": "fcd352ee-01b8-4596-8a8d-7c4d85a06ebd",
   "metadata": {},
   "source": [
    "### Basic spatial data handling in Python via Jupyterhub\n",
    "\n",
    "This is a Jupyter Notebook. It consists of *Markdown* cells for formatted text, and *Code* cells, which tell the server to actually **do computations** as you click on > 'Run this cell' (Shift+Enter).\n",
    "\n",
    "In the first *Code* cell, below, we will load a module call 'os' and use it to inspect the file system of our account on the server"
   ]
  },
  {
   "cell_type": "code",
   "execution_count": null,
   "id": "c893d5fa-40a3-4f13-be1b-23c173a4fc9a",
   "metadata": {},
   "outputs": [],
   "source": [
    "import os\n",
    "os.getcwd() # get current working directory"
   ]
  },
  {
   "cell_type": "code",
   "execution_count": null,
   "id": "d2782009-f647-478d-b5f0-243716736dd9",
   "metadata": {},
   "outputs": [],
   "source": [
    "os.listdir(\"./data\") # list all files in the \"/data\" folder"
   ]
  },
  {
   "cell_type": "markdown",
   "id": "7de94444-fa2a-4af1-baaf-1f78ea70e2b0",
   "metadata": {},
   "source": [
    "There is a .tif file, a spatial raster, in the data folder. How can we load this type of data in Python? Well... there are several options. In plain Python, without any additional modules, this would be very cumbersome. GDAL could be used, which is very fast but also quite oldschool, with difficult syntax. Rasterio is a so-called wrapper around GDAL, meaning that it uses GDAL functionality under the hood, but wrapped in somewhat easier code."
   ]
  },
  {
   "cell_type": "code",
   "execution_count": null,
   "id": "61560880-8eab-45ad-b04b-20f9d9dee86e",
   "metadata": {},
   "outputs": [],
   "source": [
    "import rasterio\n",
    "\n",
    "my_file = \"./data/T2M_daily_mean_max_topography_2011_2020_present_30.tif\"\n",
    "\n",
    "with rasterio.open(my_file) as src:\n",
    "    data = src.read()\n",
    "    transform = src.transform\n",
    "    crs = src.crs\n",
    "    height, width = data.shape[1], data.shape[2]\n",
    "\n",
    "# an f-string allows to print text and interpret elements in {}\n",
    "print(f\"height and width of the provided data are {height, width}\")\n",
    "print(f\"The CRS is {crs}, and the transformation parameters:\")\n",
    "print(transform)\n"
   ]
  },
  {
   "cell_type": "code",
   "execution_count": null,
   "id": "3947ddde-6f6c-4107-a46c-05ec31459f8f",
   "metadata": {},
   "outputs": [],
   "source": [
    "print(data)"
   ]
  },
  {
   "cell_type": "code",
   "execution_count": null,
   "id": "8ddc96fb-820b-443e-bb3c-a393b06af58c",
   "metadata": {},
   "outputs": [],
   "source": [
    "print(f\"The shape of 'data' is {data.shape}\")\n",
    "print(f\"The shape of 'data.squeeze()' is {data.squeeze().shape}\")"
   ]
  },
  {
   "cell_type": "markdown",
   "id": "f04e560b-f232-4ea1-85a0-c64102987f29",
   "metadata": {},
   "source": [
    "A basic module for visualisation in Python is matplotlib.pyplot, which, by convention, is imported as 'plt'. The 'imshow' function works for 2-dimensional data"
   ]
  },
  {
   "cell_type": "code",
   "execution_count": null,
   "id": "522c30e4-ba9c-4122-ab49-afbde20a6652",
   "metadata": {},
   "outputs": [],
   "source": [
    "import matplotlib.pyplot as plt\n",
    "plt.imshow(data.squeeze())"
   ]
  },
  {
   "cell_type": "markdown",
   "id": "964ea60c-7465-416d-b4d3-5d3975382ac1",
   "metadata": {},
   "source": [
    "As we can see, the image looks like Berlin, with the Müggelsee and Havel visible. The axis ticks seem to correspond to height and width (2007 raster cells). There is still a simpler way for us to code this, by using a Python module with higher abstraction level."
   ]
  },
  {
   "cell_type": "code",
   "execution_count": null,
   "id": "ba04d729-3bcf-491d-a189-d0c87f39e3c8",
   "metadata": {},
   "outputs": [],
   "source": [
    "import rioxarray\n",
    "\n",
    "heat_raster = rioxarray.open_rasterio(my_file)\n",
    "heat_raster.plot()"
   ]
  },
  {
   "cell_type": "markdown",
   "id": "44c0683a-2f5e-4cd0-9fb9-721676d497af",
   "metadata": {},
   "source": [
    "Not only was the code above shorter and easier to understand - but we also get a color bar and spatial coordinates along the axes.\n",
    "\n",
    "Now, how about vector data? The module 'geopandas', a geospatial version of the tabular data library 'pandas', is likely the first choice for handling vector data in Python"
   ]
  },
  {
   "cell_type": "code",
   "execution_count": null,
   "id": "487ff1be-c0d0-4854-9659-9bc5518a5eb8",
   "metadata": {
    "scrolled": true
   },
   "outputs": [],
   "source": [
    "import geopandas as gpd\n",
    "\n",
    "berlin = gpd.read_file(\"./data/berlin.gpkg\")\n",
    "berlin.explore()#tiles=\"CartoDB positron\")"
   ]
  },
  {
   "cell_type": "markdown",
   "id": "5a393379-faee-45d3-a200-8621a6939881",
   "metadata": {},
   "source": [
    "Interactive visualization, powered by leaflet, is very convenient. However, it does get tricky in Python when combining raster and vector data!\n",
    "We will need to install an additional module, which is not part of the HU Jupyterhub setup. This can be done by \"%pip install {module name}\""
   ]
  },
  {
   "cell_type": "code",
   "execution_count": null,
   "id": "da8a5448-493d-4bd1-a9f7-1321587b64ca",
   "metadata": {},
   "outputs": [],
   "source": [
    "%pip install cartopy"
   ]
  },
  {
   "cell_type": "code",
   "execution_count": null,
   "id": "fd703bb3-9408-421d-b9ea-d7aa70bb9dde",
   "metadata": {},
   "outputs": [],
   "source": [
    "print(\"CRS of the raster file:\", heat_raster.rio.crs)\n",
    "print(\"CRS of the vector file:\", berlin.crs)"
   ]
  },
  {
   "cell_type": "code",
   "execution_count": null,
   "id": "f13211ef-1373-42e5-b35f-066d197a8f59",
   "metadata": {},
   "outputs": [],
   "source": [
    "berlin = berlin.to_crs(32633)\n",
    "print(\"CRS of the raster file:\", heat_raster.rio.crs)\n",
    "print(\"CRS of the vector file:\", berlin.crs)"
   ]
  },
  {
   "cell_type": "code",
   "execution_count": null,
   "id": "45ed64d2-114c-40a6-b27d-53fc72c229ab",
   "metadata": {},
   "outputs": [],
   "source": [
    "import cartopy.crs as ccrs\n",
    "\n",
    "fig=plt.figure(figsize=[12,8])\n",
    "ax = fig.add_axes([0,0,1,1],projection=ccrs.UTM(32))\n",
    "raster_image=heat_raster.plot(ax=ax, cmap=\"magma\")\n",
    "berlin.plot(ax=ax,color='none', edgecolor=\"white\",linewidth=2)\n",
    "plt.show()"
   ]
  },
  {
   "cell_type": "code",
   "execution_count": null,
   "id": "4c4c0372-be20-416e-a57d-438657dfb0b2",
   "metadata": {},
   "outputs": [],
   "source": [
    "from rasterio.features import rasterize\n",
    "help(rasterize)"
   ]
  },
  {
   "cell_type": "code",
   "execution_count": null,
   "id": "2346beb4-917f-412d-bf0a-8c67f2d9b3ef",
   "metadata": {},
   "outputs": [],
   "source": [
    "rasterized = rasterize(\n",
    "        (berlin.geometry[0], 1),\n",
    "        out_shape=heat_raster.shape[1:],\n",
    "        transform=heat_raster.rio.transform(),\n",
    "        fill=0,\n",
    "        all_touched=True\n",
    "    )"
   ]
  },
  {
   "cell_type": "code",
   "execution_count": null,
   "id": "f06c5270-3d65-4f6c-a4b8-3499d466dc84",
   "metadata": {},
   "outputs": [],
   "source": [
    "plt.imshow(rasterized)"
   ]
  },
  {
   "cell_type": "code",
   "execution_count": null,
   "id": "49df0e65-4893-4160-8e08-3e165049be7c",
   "metadata": {},
   "outputs": [],
   "source": [
    "with rasterio.open(\n",
    "    \"./data/berlin_rasterized.tif\", # filename\n",
    "    'w',                            # open in 'write' mode\n",
    "    driver='GTiff',                 # file type\n",
    "    height=height,                  # size of dimension 1\n",
    "    width=width,                    # size of dimention 2\n",
    "    count=1,                        # size of dimension 3 (layers)\n",
    "    dtype=data.dtype,               # data type, e.g. byte, int8, float32\n",
    "    crs=crs,                        # coordinate reference system\n",
    "    transform=transform             # geotransformation parameters\n",
    ") as dst:\n",
    "    dst.write(rasterized, 1)        # data to write into that file"
   ]
  },
  {
   "cell_type": "markdown",
   "id": "3445c006-d2ac-410f-a144-cb0840aa6fcb",
   "metadata": {},
   "source": [
    "Now we know how to do a few basic things. Code that is likely to be used often can be outsourced to functions (like in R). The provided script \"customFunctions.py\" contains some functions to be used in the remainder of this exercise. If the script is in the same folder as *this* notebook, the functions can be imported like any official module"
   ]
  },
  {
   "cell_type": "code",
   "execution_count": null,
   "id": "9f8218ed-0c15-4721-a82a-820668b43577",
   "metadata": {},
   "outputs": [],
   "source": [
    "from customFunctions import writeRaster\n",
    "help(writeRaster)"
   ]
  }
 ],
 "metadata": {
  "kernelspec": {
   "display_name": "Python 3 (ipykernel)",
   "language": "python",
   "name": "python3"
  },
  "language_info": {
   "codemirror_mode": {
    "name": "ipython",
    "version": 3
   },
   "file_extension": ".py",
   "mimetype": "text/x-python",
   "name": "python",
   "nbconvert_exporter": "python",
   "pygments_lexer": "ipython3",
   "version": "3.12.11"
  }
 },
 "nbformat": 4,
 "nbformat_minor": 5
}
